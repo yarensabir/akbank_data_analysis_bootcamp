{
  "nbformat": 4,
  "nbformat_minor": 0,
  "metadata": {
    "colab": {
      "provenance": []
    },
    "kernelspec": {
      "name": "python3",
      "display_name": "Python 3"
    },
    "language_info": {
      "name": "python"
    }
  },
  "cells": [
    {
      "cell_type": "markdown",
      "source": [
        "## *HAZIRLIK"
      ],
      "metadata": {
        "id": "aYxRNZXXBi6h"
      }
    },
    {
      "cell_type": "code",
      "source": [
        "# KULLANILACAK TÜM KÜTÜPHANELERİN İÇE AKTARIMI\n",
        "\n",
        "import numpy as np\n",
        "import matplotlib.pyplot as plt\n",
        "import pandas as pd"
      ],
      "metadata": {
        "id": "wN73J8OeKkw-"
      },
      "execution_count": 6,
      "outputs": []
    },
    {
      "cell_type": "markdown",
      "source": [
        " *--**--  *--**--  *--**--  *--**--  *--**--  *--**--  *--**--  *--**--  *--**--  *--**--  *--**--  *--**--  *--**--  *--**--  *--**--  *--**--  *--**--  *--**--  *--**--  *--**--  *--**--  *--**--  *--**--  *--**--  *--**--   *--**--  *--**--  *--**--  *--**--  "
      ],
      "metadata": {
        "id": "ju1gbphXSBvN"
      }
    },
    {
      "cell_type": "markdown",
      "source": [
        "###### * DRIVE'DA BULUNAN VERİ DOSYALARINA ULAŞIP İÇERİ AKTARMA"
      ],
      "metadata": {
        "id": "gCQ6NkfKLkK5"
      }
    },
    {
      "cell_type": "code",
      "source": [
        "#https://pypi.org/project/PyDrive2/\n",
        "\n",
        "!pip install -U -q PyDrive\n",
        "\n",
        "from pydrive2.auth import GoogleAuth\n",
        "from pydrive2.drive import GoogleDrive\n",
        "\n",
        "gauth = GoogleAuth()\n",
        "gauth.credentials = GoogleCredentials.get_application_default()\n",
        "gauth.LocalWebserverAuth()\n",
        "\n",
        "drive = GoogleDrive(gauth)\n",
        "from google.colab import files"
      ],
      "metadata": {
        "id": "-ikEuJA5JrmH"
      },
      "execution_count": 7,
      "outputs": []
    },
    {
      "cell_type": "code",
      "source": [
        "file_id1 = '1RjRASWeBdm8T4w0FuEINoKIZ_0hV9Kw3'\n",
        "downloaded = drive.CreateFile({'id': file_id1})\n",
        "downloaded.GetContentFile('202212.csv')\n",
        "\n",
        "veri = pd.read_csv('202212.csv')"
      ],
      "metadata": {
        "id": "2Ekot76sKg6K"
      },
      "execution_count": 10,
      "outputs": []
    },
    {
      "cell_type": "markdown",
      "source": [
        "file_id bulmak için drive'da bulunan dosyanın paylaşım bağlantısını kopyala\n",
        "\n",
        "örneğin bağlantı bu ise:\n",
        "\n",
        "https://drive.google.com/file/d/1RjRASWeBdm8T4w0FuEINoKIZ_0hV9Kw3/view?usp=drive_link\n",
        "\n",
        "id /d/ ile /view arasında kalan alandır\n",
        "\n",
        "yani id = 1RjRASWeBdm8T4w0FuEINoKIZ_0hV9Kw3"
      ],
      "metadata": {
        "id": "0SNa1tU8UB3j"
      }
    },
    {
      "cell_type": "markdown",
      "source": [
        "###### *DİZİN ÜZERİNDEN VERİ DOSYALARINA ULAŞIP İÇERİ AKTARMA"
      ],
      "metadata": {
        "id": "IGPRCYN9R6hq"
      }
    },
    {
      "cell_type": "code",
      "source": [
        "df = pd.read_csv('/akbank_data_analysis_bootcamp/data/202212.csv')"
      ],
      "metadata": {
        "id": "sg1DpCcKMAMs"
      },
      "execution_count": null,
      "outputs": []
    },
    {
      "cell_type": "markdown",
      "source": [
        ":..:..:..:..:..:..:..:..:..:..:..:..:..:..:..:..:..:..:..:..:..:..:..:..:..:..:..:..:..:..:..:..:..:..:..:..:..:..:..:..:..:..:..:..:..:..:..:..:..:..:..:..:..:..:..:..:..:..:..:..:..:..:..:..:..:.."
      ],
      "metadata": {
        "id": "ijJ7SE1AR0I5"
      }
    },
    {
      "cell_type": "markdown",
      "source": [
        "## *KEŞİFSEL VERİ ANALİZİ"
      ],
      "metadata": {
        "id": "bOO_C_AnAsKm"
      }
    },
    {
      "cell_type": "markdown",
      "source": [
        "## *VERİ TEMİZLEME VE ÖN İŞLEME"
      ],
      "metadata": {
        "id": "OEIDEujLAsUE"
      }
    },
    {
      "cell_type": "markdown",
      "source": [
        "## *TEMEL İSTATİSTİKSEL ANALİZLER"
      ],
      "metadata": {
        "id": "N98RMIKBAsYz"
      }
    },
    {
      "cell_type": "markdown",
      "source": [
        "## *GÖRSELLEŞTİRME"
      ],
      "metadata": {
        "id": "dVmDbTh8AsdT"
      }
    },
    {
      "cell_type": "markdown",
      "source": [
        "## *DEĞİŞKENLER ARASI İLİŞKİLERİN ANALİZİ"
      ],
      "metadata": {
        "id": "yrUOLnuiAshv"
      }
    },
    {
      "cell_type": "markdown",
      "source": [
        "## *FEATURE SELECTION"
      ],
      "metadata": {
        "id": "5UZlOYdeAsmc"
      }
    },
    {
      "cell_type": "markdown",
      "source": [
        "### * FİLTRELEME"
      ],
      "metadata": {
        "id": "BKPLlWB3BWDD"
      }
    },
    {
      "cell_type": "markdown",
      "source": [
        "### *SARMA"
      ],
      "metadata": {
        "id": "m1rHz4WyBV88"
      }
    },
    {
      "cell_type": "markdown",
      "source": [
        "## *ÖZELLİK MÜHENDİSLİĞİ"
      ],
      "metadata": {
        "id": "3uEcPUiABdiU"
      }
    },
    {
      "cell_type": "code",
      "source": [],
      "metadata": {
        "id": "E8d-RYx-Bc8K"
      },
      "execution_count": null,
      "outputs": []
    }
  ]
}