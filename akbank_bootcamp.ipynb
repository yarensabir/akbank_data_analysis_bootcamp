{
  "cells": [
    {
      "cell_type": "markdown",
      "metadata": {
        "id": "aYxRNZXXBi6h"
      },
      "source": [
        "## *HAZIRLIK"
      ]
    },
    {
      "cell_type": "code",
      "execution_count": 8,
      "metadata": {
        "id": "wN73J8OeKkw-"
      },
      "outputs": [],
      "source": [
        "# KULLANILACAK TÜM KÜTÜPHANELERİN İÇE AKTARIMI\n",
        "\n",
        "import numpy as np\n",
        "import matplotlib.pyplot as plt\n",
        "import pandas as pd"
      ]
    },
    {
      "cell_type": "markdown",
      "metadata": {
        "id": "ju1gbphXSBvN"
      },
      "source": [
        " *--**--  *--**--  *--**--  *--**--  *--**--  *--**--  *--**--  *--**--  *--**--  *--**--  *--**--  *--**--  *--**--  *--**--  *--**--  *--**--  *--**--  *--**--  *--**--  *--**--  *--**--  *--**--  *--**--  *--**--  *--**--   *--**--  *--**--  *--**--  *--**--  "
      ]
    },
    {
      "cell_type": "markdown",
      "metadata": {
        "id": "gCQ6NkfKLkK5"
      },
      "source": [
        "##### * DRIVE'DA BULUNAN VERİ DOSYALARINA ULAŞIP İÇERİ AKTARMA"
      ]
    },
    {
      "cell_type": "code",
      "execution_count": 9,
      "metadata": {
        "id": "-ikEuJA5JrmH"
      },
      "outputs": [
        {
          "ename": "ModuleNotFoundError",
          "evalue": "No module named 'pydrive2'",
          "output_type": "error",
          "traceback": [
            "\u001b[0;31m---------------------------------------------------------------------------\u001b[0m",
            "\u001b[0;31mModuleNotFoundError\u001b[0m                       Traceback (most recent call last)",
            "Cell \u001b[0;32mIn[9], line 5\u001b[0m\n\u001b[1;32m      1\u001b[0m \u001b[38;5;66;03m#https://pypi.org/project/PyDrive2/\u001b[39;00m\n\u001b[1;32m      3\u001b[0m get_ipython()\u001b[38;5;241m.\u001b[39msystem(\u001b[38;5;124m'\u001b[39m\u001b[38;5;124mpip install -U -q PyDrive\u001b[39m\u001b[38;5;124m'\u001b[39m)\n\u001b[0;32m----> 5\u001b[0m \u001b[38;5;28;01mfrom\u001b[39;00m \u001b[38;5;21;01mpydrive2\u001b[39;00m\u001b[38;5;21;01m.\u001b[39;00m\u001b[38;5;21;01mauth\u001b[39;00m \u001b[38;5;28;01mimport\u001b[39;00m GoogleAuth\n\u001b[1;32m      6\u001b[0m \u001b[38;5;28;01mfrom\u001b[39;00m \u001b[38;5;21;01mpydrive2\u001b[39;00m\u001b[38;5;21;01m.\u001b[39;00m\u001b[38;5;21;01mdrive\u001b[39;00m \u001b[38;5;28;01mimport\u001b[39;00m GoogleDrive\n\u001b[1;32m      8\u001b[0m gauth \u001b[38;5;241m=\u001b[39m GoogleAuth()\n",
            "\u001b[0;31mModuleNotFoundError\u001b[0m: No module named 'pydrive2'"
          ]
        }
      ],
      "source": [
        "#https://pypi.org/project/PyDrive2/\n",
        "\n",
        "!pip install -U -q PyDrive\n",
        "\n",
        "from pydrive2.auth import GoogleAuth\n",
        "from pydrive2.drive import GoogleDrive\n",
        "\n",
        "gauth = GoogleAuth()\n",
        "gauth.credentials = GoogleCredentials.get_application_default()\n",
        "gauth.LocalWebserverAuth()\n",
        "\n",
        "drive = GoogleDrive(gauth)\n",
        "from google.colab import files"
      ]
    },
    {
      "cell_type": "code",
      "execution_count": null,
      "metadata": {
        "id": "2Ekot76sKg6K"
      },
      "outputs": [],
      "source": [
        "file_id1 = '1RjRASWeBdm8T4w0FuEINoKIZ_0hV9Kw3'\n",
        "downloaded = drive.CreateFile({'id': file_id1})\n",
        "downloaded.GetContentFile('202212.csv')\n",
        "\n",
        "veri = pd.read_csv('202212.csv')"
      ]
    },
    {
      "cell_type": "markdown",
      "metadata": {
        "id": "0SNa1tU8UB3j"
      },
      "source": [
        "file_id bulmak için drive'da bulunan dosyanın paylaşım bağlantısını kopyala\n",
        "\n",
        "örneğin bağlantı bu ise:\n",
        "\n",
        "https://drive.google.com/file/d/1RjRASWeBdm8T4w0FuEINoKIZ_0hV9Kw3/view?usp=drive_link\n",
        "\n",
        "id /d/ ile /view arasında kalan alandır\n",
        "\n",
        "yani id = 1RjRASWeBdm8T4w0FuEINoKIZ_0hV9Kw3"
      ]
    },
    {
      "cell_type": "markdown",
      "metadata": {
        "id": "IGPRCYN9R6hq"
      },
      "source": [
        "##### *DİZİN ÜZERİNDEN VERİ DOSYALARINA ULAŞIP İÇERİ AKTARMA"
      ]
    },
    {
      "cell_type": "code",
      "execution_count": null,
      "metadata": {
        "id": "sg1DpCcKMAMs"
      },
      "outputs": [],
      "source": [
        "df = pd.read_csv('202212.csv')"
      ]
    },
    {
      "cell_type": "markdown",
      "metadata": {},
      "source": [
        " *--**--  *--**--  *--**--  *--**--  *--**--  *--**--  *--**--  *--**--  *--**--  *--**--  *--**--  *--**--  *--**--  *--**--  *--**--  *--**--  *--**--  *--**--  *--**--  *--**--  *--**--  *--**--  *--**--  *--**--  *--**--   *--**--  *--**--  *--**--  *--**--  "
      ]
    },
    {
      "cell_type": "code",
      "execution_count": null,
      "metadata": {},
      "outputs": [
        {
          "name": "stderr",
          "output_type": "stream",
          "text": [
            "/tmp/ipykernel_219347/443578877.py:10: DtypeWarning: Columns (14) have mixed types. Specify dtype option on import or set low_memory=False.\n",
            "  d10 = pd.read_csv('202210.csv')\n"
          ]
        }
      ],
      "source": [
        "d1 = pd.read_csv('202201.csv')\n",
        "d2 = pd.read_csv('202202.csv')\n",
        "d3 = pd.read_csv('202203.csv')\n",
        "d4 = pd.read_csv('202204.csv')\n",
        "d5 = pd.read_csv('202205.csv')\n",
        "d6 = pd.read_csv('202206.csv')\n",
        "d7 = pd.read_csv('202207.csv')\n",
        "d8 = pd.read_csv('202208.csv')\n",
        "d9 = pd.read_csv('202209.csv')\n",
        "d10 = pd.read_csv('202210.csv')\n",
        "d11 = pd.read_csv('202211.csv')\n",
        "d12 = pd.read_csv('202212.csv')"
      ]
    },
    {
      "cell_type": "markdown",
      "metadata": {
        "id": "ijJ7SE1AR0I5"
      },
      "source": [
        ":..:..:..:..:..:..:..:..:..:..:..:..:..:..:..:..:..:..:..:..:..:..:..:..:..:..:..:..:..:..:..:..:..:..:..:..:..:..:..:..:..:..:..:..:..:..:..:..:..:..:..:..:..:..:..:..:..:..:..:..:..:..:..:..:..:.."
      ]
    },
    {
      "cell_type": "markdown",
      "metadata": {
        "id": "bOO_C_AnAsKm"
      },
      "source": [
        "## *KEŞİFSEL VERİ ANALİZİ"
      ]
    },
    {
      "cell_type": "code",
      "execution_count": null,
      "metadata": {},
      "outputs": [
        {
          "data": {
            "text/html": [
              "<div>\n",
              "<style scoped>\n",
              "    .dataframe tbody tr th:only-of-type {\n",
              "        vertical-align: middle;\n",
              "    }\n",
              "\n",
              "    .dataframe tbody tr th {\n",
              "        vertical-align: top;\n",
              "    }\n",
              "\n",
              "    .dataframe thead th {\n",
              "        text-align: right;\n",
              "    }\n",
              "</style>\n",
              "<table border=\"1\" class=\"dataframe\">\n",
              "  <thead>\n",
              "    <tr style=\"text-align: right;\">\n",
              "      <th></th>\n",
              "      <th>TRADE DATE</th>\n",
              "      <th>INSTRUMENT SERIES CODE</th>\n",
              "      <th>INSTRUMENT NAME</th>\n",
              "      <th>MARKET SUB SEGMENT</th>\n",
              "      <th>MARKET SEGMENT</th>\n",
              "      <th>MARKET</th>\n",
              "      <th>INSTRUMENT GROUP</th>\n",
              "      <th>INSTRUMENT TYPE</th>\n",
              "      <th>INSTRUMENT CLASS</th>\n",
              "      <th>TRADING METHOD</th>\n",
              "      <th>...</th>\n",
              "      <th>SHORT SALE VWAP</th>\n",
              "      <th>TRADED VALUE OF SHORT SALE TRADES</th>\n",
              "      <th>TRADED VOLUME OF SHORT SALE TRADES</th>\n",
              "      <th>NUMBER OF CONTRACTS OF SHORT SALE TRADES</th>\n",
              "      <th>LOWEST TRADE REPORT PRICE</th>\n",
              "      <th>HIGHEST TRADE REPORT PRICE</th>\n",
              "      <th>TRADE REPORT VWAP</th>\n",
              "      <th>TRADE REPORT TRADED VALUE</th>\n",
              "      <th>TRADE REPORT TRADED VOLUME</th>\n",
              "      <th>NUMBER OF TRADE REPORTS</th>\n",
              "    </tr>\n",
              "  </thead>\n",
              "  <tbody>\n",
              "    <tr>\n",
              "      <th>0</th>\n",
              "      <td>2022-01-31</td>\n",
              "      <td>ABIMI.V</td>\n",
              "      <td>AKBNKC3101220006.50IYM0000001NA</td>\n",
              "      <td>NaN</td>\n",
              "      <td>K</td>\n",
              "      <td>MSPOT</td>\n",
              "      <td>ECW</td>\n",
              "      <td>MSPOTECW</td>\n",
              "      <td>MSPOTECWAKBIYM</td>\n",
              "      <td>PY</td>\n",
              "      <td>...</td>\n",
              "      <td>0.0</td>\n",
              "      <td>0.0</td>\n",
              "      <td>0</td>\n",
              "      <td>0</td>\n",
              "      <td>0.0</td>\n",
              "      <td>0.0</td>\n",
              "      <td>0.0</td>\n",
              "      <td>0.0</td>\n",
              "      <td>0</td>\n",
              "      <td>0</td>\n",
              "    </tr>\n",
              "    <tr>\n",
              "      <th>1</th>\n",
              "      <td>2022-01-13</td>\n",
              "      <td>ABIMI.V</td>\n",
              "      <td>AKBNKC3101220006.50IYM0000001NA</td>\n",
              "      <td>NaN</td>\n",
              "      <td>K</td>\n",
              "      <td>MSPOT</td>\n",
              "      <td>ECW</td>\n",
              "      <td>MSPOTECW</td>\n",
              "      <td>MSPOTECWAKBIYM</td>\n",
              "      <td>PY</td>\n",
              "      <td>...</td>\n",
              "      <td>0.0</td>\n",
              "      <td>0.0</td>\n",
              "      <td>0</td>\n",
              "      <td>0</td>\n",
              "      <td>0.0</td>\n",
              "      <td>0.0</td>\n",
              "      <td>0.0</td>\n",
              "      <td>0.0</td>\n",
              "      <td>0</td>\n",
              "      <td>0</td>\n",
              "    </tr>\n",
              "    <tr>\n",
              "      <th>2</th>\n",
              "      <td>2022-01-12</td>\n",
              "      <td>ABIMI.V</td>\n",
              "      <td>AKBNKC3101220006.50IYM0000001NA</td>\n",
              "      <td>NaN</td>\n",
              "      <td>K</td>\n",
              "      <td>MSPOT</td>\n",
              "      <td>ECW</td>\n",
              "      <td>MSPOTECW</td>\n",
              "      <td>MSPOTECWAKBIYM</td>\n",
              "      <td>PY</td>\n",
              "      <td>...</td>\n",
              "      <td>0.0</td>\n",
              "      <td>0.0</td>\n",
              "      <td>0</td>\n",
              "      <td>0</td>\n",
              "      <td>0.0</td>\n",
              "      <td>0.0</td>\n",
              "      <td>0.0</td>\n",
              "      <td>0.0</td>\n",
              "      <td>0</td>\n",
              "      <td>0</td>\n",
              "    </tr>\n",
              "    <tr>\n",
              "      <th>3</th>\n",
              "      <td>2022-01-19</td>\n",
              "      <td>ABIMI.V</td>\n",
              "      <td>AKBNKC3101220006.50IYM0000001NA</td>\n",
              "      <td>NaN</td>\n",
              "      <td>K</td>\n",
              "      <td>MSPOT</td>\n",
              "      <td>ECW</td>\n",
              "      <td>MSPOTECW</td>\n",
              "      <td>MSPOTECWAKBIYM</td>\n",
              "      <td>PY</td>\n",
              "      <td>...</td>\n",
              "      <td>0.0</td>\n",
              "      <td>0.0</td>\n",
              "      <td>0</td>\n",
              "      <td>0</td>\n",
              "      <td>0.0</td>\n",
              "      <td>0.0</td>\n",
              "      <td>0.0</td>\n",
              "      <td>0.0</td>\n",
              "      <td>0</td>\n",
              "      <td>0</td>\n",
              "    </tr>\n",
              "    <tr>\n",
              "      <th>4</th>\n",
              "      <td>2022-01-18</td>\n",
              "      <td>ABIMI.V</td>\n",
              "      <td>AKBNKC3101220006.50IYM0000001NA</td>\n",
              "      <td>NaN</td>\n",
              "      <td>K</td>\n",
              "      <td>MSPOT</td>\n",
              "      <td>ECW</td>\n",
              "      <td>MSPOTECW</td>\n",
              "      <td>MSPOTECWAKBIYM</td>\n",
              "      <td>PY</td>\n",
              "      <td>...</td>\n",
              "      <td>0.0</td>\n",
              "      <td>0.0</td>\n",
              "      <td>0</td>\n",
              "      <td>0</td>\n",
              "      <td>0.0</td>\n",
              "      <td>0.0</td>\n",
              "      <td>0.0</td>\n",
              "      <td>0.0</td>\n",
              "      <td>0</td>\n",
              "      <td>0</td>\n",
              "    </tr>\n",
              "  </tbody>\n",
              "</table>\n",
              "<p>5 rows × 52 columns</p>\n",
              "</div>"
            ],
            "text/plain": [
              "   TRADE DATE INSTRUMENT SERIES CODE                  INSTRUMENT NAME  \\\n",
              "0  2022-01-31                ABIMI.V  AKBNKC3101220006.50IYM0000001NA   \n",
              "1  2022-01-13                ABIMI.V  AKBNKC3101220006.50IYM0000001NA   \n",
              "2  2022-01-12                ABIMI.V  AKBNKC3101220006.50IYM0000001NA   \n",
              "3  2022-01-19                ABIMI.V  AKBNKC3101220006.50IYM0000001NA   \n",
              "4  2022-01-18                ABIMI.V  AKBNKC3101220006.50IYM0000001NA   \n",
              "\n",
              "   MARKET SUB SEGMENT MARKET SEGMENT MARKET INSTRUMENT GROUP INSTRUMENT TYPE  \\\n",
              "0                 NaN              K  MSPOT              ECW        MSPOTECW   \n",
              "1                 NaN              K  MSPOT              ECW        MSPOTECW   \n",
              "2                 NaN              K  MSPOT              ECW        MSPOTECW   \n",
              "3                 NaN              K  MSPOT              ECW        MSPOTECW   \n",
              "4                 NaN              K  MSPOT              ECW        MSPOTECW   \n",
              "\n",
              "  INSTRUMENT CLASS TRADING METHOD  ...  SHORT SALE VWAP  \\\n",
              "0   MSPOTECWAKBIYM             PY  ...              0.0   \n",
              "1   MSPOTECWAKBIYM             PY  ...              0.0   \n",
              "2   MSPOTECWAKBIYM             PY  ...              0.0   \n",
              "3   MSPOTECWAKBIYM             PY  ...              0.0   \n",
              "4   MSPOTECWAKBIYM             PY  ...              0.0   \n",
              "\n",
              "   TRADED VALUE OF SHORT SALE TRADES  TRADED VOLUME OF SHORT SALE TRADES  \\\n",
              "0                                0.0                                   0   \n",
              "1                                0.0                                   0   \n",
              "2                                0.0                                   0   \n",
              "3                                0.0                                   0   \n",
              "4                                0.0                                   0   \n",
              "\n",
              "   NUMBER OF CONTRACTS OF SHORT SALE TRADES  LOWEST TRADE REPORT PRICE  \\\n",
              "0                                         0                        0.0   \n",
              "1                                         0                        0.0   \n",
              "2                                         0                        0.0   \n",
              "3                                         0                        0.0   \n",
              "4                                         0                        0.0   \n",
              "\n",
              "   HIGHEST TRADE REPORT PRICE  TRADE REPORT VWAP  TRADE REPORT TRADED VALUE  \\\n",
              "0                         0.0                0.0                        0.0   \n",
              "1                         0.0                0.0                        0.0   \n",
              "2                         0.0                0.0                        0.0   \n",
              "3                         0.0                0.0                        0.0   \n",
              "4                         0.0                0.0                        0.0   \n",
              "\n",
              "   TRADE REPORT TRADED VOLUME  NUMBER OF TRADE REPORTS  \n",
              "0                           0                        0  \n",
              "1                           0                        0  \n",
              "2                           0                        0  \n",
              "3                           0                        0  \n",
              "4                           0                        0  \n",
              "\n",
              "[5 rows x 52 columns]"
            ]
          },
          "execution_count": 5,
          "metadata": {},
          "output_type": "execute_result"
        }
      ],
      "source": [
        "d1.head()"
      ]
    },
    {
      "cell_type": "code",
      "execution_count": 10,
      "metadata": {},
      "outputs": [
        {
          "ename": "KeyboardInterrupt",
          "evalue": "",
          "output_type": "error",
          "traceback": [
            "\u001b[0;31m---------------------------------------------------------------------------\u001b[0m",
            "\u001b[0;31mKeyboardInterrupt\u001b[0m                         Traceback (most recent call last)",
            "Cell \u001b[0;32mIn[10], line 1\u001b[0m\n\u001b[0;32m----> 1\u001b[0m \u001b[43md1\u001b[49m\u001b[38;5;241m.\u001b[39minfo()\n",
            "Cell \u001b[0;32mIn[10], line 1\u001b[0m\n\u001b[0;32m----> 1\u001b[0m \u001b[43md1\u001b[49m\u001b[38;5;241m.\u001b[39minfo()\n",
            "File \u001b[0;32m_pydevd_bundle/pydevd_cython.pyx:1457\u001b[0m, in \u001b[0;36m_pydevd_bundle.pydevd_cython.SafeCallWrapper.__call__\u001b[0;34m()\u001b[0m\n",
            "File \u001b[0;32m_pydevd_bundle/pydevd_cython.pyx:701\u001b[0m, in \u001b[0;36m_pydevd_bundle.pydevd_cython.PyDBFrame.trace_dispatch\u001b[0;34m()\u001b[0m\n",
            "File \u001b[0;32m_pydevd_bundle/pydevd_cython.pyx:1152\u001b[0m, in \u001b[0;36m_pydevd_bundle.pydevd_cython.PyDBFrame.trace_dispatch\u001b[0;34m()\u001b[0m\n",
            "File \u001b[0;32m_pydevd_bundle/pydevd_cython.pyx:1135\u001b[0m, in \u001b[0;36m_pydevd_bundle.pydevd_cython.PyDBFrame.trace_dispatch\u001b[0;34m()\u001b[0m\n",
            "File \u001b[0;32m_pydevd_bundle/pydevd_cython.pyx:312\u001b[0m, in \u001b[0;36m_pydevd_bundle.pydevd_cython.PyDBFrame.do_wait_suspend\u001b[0;34m()\u001b[0m\n",
            "File \u001b[0;32m~/.local/lib/python3.10/site-packages/debugpy/_vendored/pydevd/pydevd.py:2070\u001b[0m, in \u001b[0;36mPyDB.do_wait_suspend\u001b[0;34m(self, thread, frame, event, arg, exception_type)\u001b[0m\n\u001b[1;32m   2067\u001b[0m             from_this_thread\u001b[38;5;241m.\u001b[39mappend(frame_custom_thread_id)\n\u001b[1;32m   2069\u001b[0m     \u001b[38;5;28;01mwith\u001b[39;00m \u001b[38;5;28mself\u001b[39m\u001b[38;5;241m.\u001b[39m_threads_suspended_single_notification\u001b[38;5;241m.\u001b[39mnotify_thread_suspended(thread_id, thread, stop_reason):\n\u001b[0;32m-> 2070\u001b[0m         keep_suspended \u001b[38;5;241m=\u001b[39m \u001b[38;5;28;43mself\u001b[39;49m\u001b[38;5;241;43m.\u001b[39;49m\u001b[43m_do_wait_suspend\u001b[49m\u001b[43m(\u001b[49m\u001b[43mthread\u001b[49m\u001b[43m,\u001b[49m\u001b[43m \u001b[49m\u001b[43mframe\u001b[49m\u001b[43m,\u001b[49m\u001b[43m \u001b[49m\u001b[43mevent\u001b[49m\u001b[43m,\u001b[49m\u001b[43m \u001b[49m\u001b[43marg\u001b[49m\u001b[43m,\u001b[49m\u001b[43m \u001b[49m\u001b[43msuspend_type\u001b[49m\u001b[43m,\u001b[49m\u001b[43m \u001b[49m\u001b[43mfrom_this_thread\u001b[49m\u001b[43m,\u001b[49m\u001b[43m \u001b[49m\u001b[43mframes_tracker\u001b[49m\u001b[43m)\u001b[49m\n\u001b[1;32m   2072\u001b[0m frames_list \u001b[38;5;241m=\u001b[39m \u001b[38;5;28;01mNone\u001b[39;00m\n\u001b[1;32m   2074\u001b[0m \u001b[38;5;28;01mif\u001b[39;00m keep_suspended:\n\u001b[1;32m   2075\u001b[0m     \u001b[38;5;66;03m# This means that we should pause again after a set next statement.\u001b[39;00m\n",
            "File \u001b[0;32m~/.local/lib/python3.10/site-packages/debugpy/_vendored/pydevd/pydevd.py:2106\u001b[0m, in \u001b[0;36mPyDB._do_wait_suspend\u001b[0;34m(self, thread, frame, event, arg, suspend_type, from_this_thread, frames_tracker)\u001b[0m\n\u001b[1;32m   2103\u001b[0m         \u001b[38;5;28mself\u001b[39m\u001b[38;5;241m.\u001b[39m_call_input_hook()\n\u001b[1;32m   2105\u001b[0m     \u001b[38;5;28mself\u001b[39m\u001b[38;5;241m.\u001b[39mprocess_internal_commands()\n\u001b[0;32m-> 2106\u001b[0m     \u001b[43mtime\u001b[49m\u001b[38;5;241;43m.\u001b[39;49m\u001b[43msleep\u001b[49m\u001b[43m(\u001b[49m\u001b[38;5;241;43m0.01\u001b[39;49m\u001b[43m)\u001b[49m\n\u001b[1;32m   2108\u001b[0m \u001b[38;5;28mself\u001b[39m\u001b[38;5;241m.\u001b[39mcancel_async_evaluation(get_current_thread_id(thread), \u001b[38;5;28mstr\u001b[39m(\u001b[38;5;28mid\u001b[39m(frame)))\n\u001b[1;32m   2110\u001b[0m \u001b[38;5;66;03m# process any stepping instructions\u001b[39;00m\n",
            "\u001b[0;31mKeyboardInterrupt\u001b[0m: "
          ]
        }
      ],
      "source": []
    },
    {
      "cell_type": "code",
      "execution_count": 6,
      "metadata": {},
      "outputs": [
        {
          "data": {
            "text/html": [
              "<div>\n",
              "<style scoped>\n",
              "    .dataframe tbody tr th:only-of-type {\n",
              "        vertical-align: middle;\n",
              "    }\n",
              "\n",
              "    .dataframe tbody tr th {\n",
              "        vertical-align: top;\n",
              "    }\n",
              "\n",
              "    .dataframe thead th {\n",
              "        text-align: right;\n",
              "    }\n",
              "</style>\n",
              "<table border=\"1\" class=\"dataframe\">\n",
              "  <thead>\n",
              "    <tr style=\"text-align: right;\">\n",
              "      <th></th>\n",
              "      <th>TRADE DATE</th>\n",
              "      <th>INSTRUMENT SERIES CODE</th>\n",
              "      <th>INSTRUMENT NAME</th>\n",
              "      <th>MARKET SUB SEGMENT</th>\n",
              "      <th>MARKET SEGMENT</th>\n",
              "      <th>MARKET</th>\n",
              "      <th>INSTRUMENT GROUP</th>\n",
              "      <th>INSTRUMENT TYPE</th>\n",
              "      <th>INSTRUMENT CLASS</th>\n",
              "      <th>TRADING METHOD</th>\n",
              "      <th>...</th>\n",
              "      <th>SHORT SALE VWAP</th>\n",
              "      <th>TRADED VALUE OF SHORT SALE TRADES</th>\n",
              "      <th>TRADED VOLUME OF SHORT SALE TRADES</th>\n",
              "      <th>NUMBER OF CONTRACTS OF SHORT SALE TRADES</th>\n",
              "      <th>LOWEST TRADE REPORT PRICE</th>\n",
              "      <th>HIGHEST TRADE REPORT PRICE</th>\n",
              "      <th>TRADE REPORT VWAP</th>\n",
              "      <th>TRADE REPORT TRADED VALUE</th>\n",
              "      <th>TRADE REPORT TRADED VOLUME</th>\n",
              "      <th>NUMBER OF TRADE REPORTS</th>\n",
              "    </tr>\n",
              "  </thead>\n",
              "  <tbody>\n",
              "    <tr>\n",
              "      <th>0</th>\n",
              "      <td>2022-02-02</td>\n",
              "      <td>ABIMO.V</td>\n",
              "      <td>AKBNKC2802220007.90IYM0000001NA</td>\n",
              "      <td>NaN</td>\n",
              "      <td>K</td>\n",
              "      <td>MSPOT</td>\n",
              "      <td>ECW</td>\n",
              "      <td>MSPOTECW</td>\n",
              "      <td>MSPOTECWAKBIYM</td>\n",
              "      <td>PY</td>\n",
              "      <td>...</td>\n",
              "      <td>0.0</td>\n",
              "      <td>0.0</td>\n",
              "      <td>0</td>\n",
              "      <td>0</td>\n",
              "      <td>0.0</td>\n",
              "      <td>0.0</td>\n",
              "      <td>0.0</td>\n",
              "      <td>0.0</td>\n",
              "      <td>0</td>\n",
              "      <td>0</td>\n",
              "    </tr>\n",
              "    <tr>\n",
              "      <th>1</th>\n",
              "      <td>2022-02-25</td>\n",
              "      <td>ABIMO.V</td>\n",
              "      <td>AKBNKC2802220007.90IYM0000001NA</td>\n",
              "      <td>NaN</td>\n",
              "      <td>K</td>\n",
              "      <td>MSPOT</td>\n",
              "      <td>ECW</td>\n",
              "      <td>MSPOTECW</td>\n",
              "      <td>MSPOTECWAKBIYM</td>\n",
              "      <td>PY</td>\n",
              "      <td>...</td>\n",
              "      <td>0.0</td>\n",
              "      <td>0.0</td>\n",
              "      <td>0</td>\n",
              "      <td>0</td>\n",
              "      <td>0.0</td>\n",
              "      <td>0.0</td>\n",
              "      <td>0.0</td>\n",
              "      <td>0.0</td>\n",
              "      <td>0</td>\n",
              "      <td>0</td>\n",
              "    </tr>\n",
              "    <tr>\n",
              "      <th>2</th>\n",
              "      <td>2022-02-07</td>\n",
              "      <td>ABIMO.V</td>\n",
              "      <td>AKBNKC2802220007.90IYM0000001NA</td>\n",
              "      <td>NaN</td>\n",
              "      <td>K</td>\n",
              "      <td>MSPOT</td>\n",
              "      <td>ECW</td>\n",
              "      <td>MSPOTECW</td>\n",
              "      <td>MSPOTECWAKBIYM</td>\n",
              "      <td>PY</td>\n",
              "      <td>...</td>\n",
              "      <td>0.0</td>\n",
              "      <td>0.0</td>\n",
              "      <td>0</td>\n",
              "      <td>0</td>\n",
              "      <td>0.0</td>\n",
              "      <td>0.0</td>\n",
              "      <td>0.0</td>\n",
              "      <td>0.0</td>\n",
              "      <td>0</td>\n",
              "      <td>0</td>\n",
              "    </tr>\n",
              "    <tr>\n",
              "      <th>3</th>\n",
              "      <td>2022-02-04</td>\n",
              "      <td>ABIMO.V</td>\n",
              "      <td>AKBNKC2802220007.90IYM0000001NA</td>\n",
              "      <td>NaN</td>\n",
              "      <td>K</td>\n",
              "      <td>MSPOT</td>\n",
              "      <td>ECW</td>\n",
              "      <td>MSPOTECW</td>\n",
              "      <td>MSPOTECWAKBIYM</td>\n",
              "      <td>PY</td>\n",
              "      <td>...</td>\n",
              "      <td>0.0</td>\n",
              "      <td>0.0</td>\n",
              "      <td>0</td>\n",
              "      <td>0</td>\n",
              "      <td>0.0</td>\n",
              "      <td>0.0</td>\n",
              "      <td>0.0</td>\n",
              "      <td>0.0</td>\n",
              "      <td>0</td>\n",
              "      <td>0</td>\n",
              "    </tr>\n",
              "    <tr>\n",
              "      <th>4</th>\n",
              "      <td>2022-02-03</td>\n",
              "      <td>ABIMO.V</td>\n",
              "      <td>AKBNKC2802220007.90IYM0000001NA</td>\n",
              "      <td>NaN</td>\n",
              "      <td>K</td>\n",
              "      <td>MSPOT</td>\n",
              "      <td>ECW</td>\n",
              "      <td>MSPOTECW</td>\n",
              "      <td>MSPOTECWAKBIYM</td>\n",
              "      <td>PY</td>\n",
              "      <td>...</td>\n",
              "      <td>0.0</td>\n",
              "      <td>0.0</td>\n",
              "      <td>0</td>\n",
              "      <td>0</td>\n",
              "      <td>0.0</td>\n",
              "      <td>0.0</td>\n",
              "      <td>0.0</td>\n",
              "      <td>0.0</td>\n",
              "      <td>0</td>\n",
              "      <td>0</td>\n",
              "    </tr>\n",
              "  </tbody>\n",
              "</table>\n",
              "<p>5 rows × 52 columns</p>\n",
              "</div>"
            ],
            "text/plain": [
              "   TRADE DATE INSTRUMENT SERIES CODE                  INSTRUMENT NAME  \\\n",
              "0  2022-02-02                ABIMO.V  AKBNKC2802220007.90IYM0000001NA   \n",
              "1  2022-02-25                ABIMO.V  AKBNKC2802220007.90IYM0000001NA   \n",
              "2  2022-02-07                ABIMO.V  AKBNKC2802220007.90IYM0000001NA   \n",
              "3  2022-02-04                ABIMO.V  AKBNKC2802220007.90IYM0000001NA   \n",
              "4  2022-02-03                ABIMO.V  AKBNKC2802220007.90IYM0000001NA   \n",
              "\n",
              "   MARKET SUB SEGMENT MARKET SEGMENT MARKET INSTRUMENT GROUP INSTRUMENT TYPE  \\\n",
              "0                 NaN              K  MSPOT              ECW        MSPOTECW   \n",
              "1                 NaN              K  MSPOT              ECW        MSPOTECW   \n",
              "2                 NaN              K  MSPOT              ECW        MSPOTECW   \n",
              "3                 NaN              K  MSPOT              ECW        MSPOTECW   \n",
              "4                 NaN              K  MSPOT              ECW        MSPOTECW   \n",
              "\n",
              "  INSTRUMENT CLASS TRADING METHOD  ...  SHORT SALE VWAP  \\\n",
              "0   MSPOTECWAKBIYM             PY  ...              0.0   \n",
              "1   MSPOTECWAKBIYM             PY  ...              0.0   \n",
              "2   MSPOTECWAKBIYM             PY  ...              0.0   \n",
              "3   MSPOTECWAKBIYM             PY  ...              0.0   \n",
              "4   MSPOTECWAKBIYM             PY  ...              0.0   \n",
              "\n",
              "   TRADED VALUE OF SHORT SALE TRADES  TRADED VOLUME OF SHORT SALE TRADES  \\\n",
              "0                                0.0                                   0   \n",
              "1                                0.0                                   0   \n",
              "2                                0.0                                   0   \n",
              "3                                0.0                                   0   \n",
              "4                                0.0                                   0   \n",
              "\n",
              "   NUMBER OF CONTRACTS OF SHORT SALE TRADES  LOWEST TRADE REPORT PRICE  \\\n",
              "0                                         0                        0.0   \n",
              "1                                         0                        0.0   \n",
              "2                                         0                        0.0   \n",
              "3                                         0                        0.0   \n",
              "4                                         0                        0.0   \n",
              "\n",
              "   HIGHEST TRADE REPORT PRICE  TRADE REPORT VWAP  TRADE REPORT TRADED VALUE  \\\n",
              "0                         0.0                0.0                        0.0   \n",
              "1                         0.0                0.0                        0.0   \n",
              "2                         0.0                0.0                        0.0   \n",
              "3                         0.0                0.0                        0.0   \n",
              "4                         0.0                0.0                        0.0   \n",
              "\n",
              "   TRADE REPORT TRADED VOLUME  NUMBER OF TRADE REPORTS  \n",
              "0                           0                        0  \n",
              "1                           0                        0  \n",
              "2                           0                        0  \n",
              "3                           0                        0  \n",
              "4                           0                        0  \n",
              "\n",
              "[5 rows x 52 columns]"
            ]
          },
          "execution_count": 6,
          "metadata": {},
          "output_type": "execute_result"
        }
      ],
      "source": [
        "d2.head()"
      ]
    },
    {
      "cell_type": "markdown",
      "metadata": {
        "id": "OEIDEujLAsUE"
      },
      "source": [
        "## *VERİ TEMİZLEME VE ÖN İŞLEME"
      ]
    },
    {
      "cell_type": "markdown",
      "metadata": {
        "id": "N98RMIKBAsYz"
      },
      "source": [
        "## *TEMEL İSTATİSTİKSEL ANALİZLER"
      ]
    },
    {
      "cell_type": "markdown",
      "metadata": {
        "id": "dVmDbTh8AsdT"
      },
      "source": [
        "## *GÖRSELLEŞTİRME"
      ]
    },
    {
      "cell_type": "markdown",
      "metadata": {
        "id": "yrUOLnuiAshv"
      },
      "source": [
        "## *DEĞİŞKENLER ARASI İLİŞKİLERİN ANALİZİ"
      ]
    },
    {
      "cell_type": "markdown",
      "metadata": {
        "id": "5UZlOYdeAsmc"
      },
      "source": [
        "## *FEATURE SELECTION"
      ]
    },
    {
      "cell_type": "markdown",
      "metadata": {
        "id": "BKPLlWB3BWDD"
      },
      "source": [
        "### * FİLTRELEME"
      ]
    },
    {
      "cell_type": "markdown",
      "metadata": {
        "id": "m1rHz4WyBV88"
      },
      "source": [
        "### *SARMA"
      ]
    },
    {
      "cell_type": "markdown",
      "metadata": {
        "id": "3uEcPUiABdiU"
      },
      "source": [
        "## *ÖZELLİK MÜHENDİSLİĞİ"
      ]
    },
    {
      "cell_type": "code",
      "execution_count": null,
      "metadata": {
        "id": "E8d-RYx-Bc8K"
      },
      "outputs": [],
      "source": []
    }
  ],
  "metadata": {
    "colab": {
      "provenance": []
    },
    "kernelspec": {
      "display_name": "Python 3",
      "name": "python3"
    },
    "language_info": {
      "codemirror_mode": {
        "name": "ipython",
        "version": 3
      },
      "file_extension": ".py",
      "mimetype": "text/x-python",
      "name": "python",
      "nbconvert_exporter": "python",
      "pygments_lexer": "ipython3",
      "version": "3.10.12"
    }
  },
  "nbformat": 4,
  "nbformat_minor": 0
}
